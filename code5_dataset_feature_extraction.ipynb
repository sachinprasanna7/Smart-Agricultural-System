{
 "cells": [
  {
   "cell_type": "markdown",
   "metadata": {},
   "source": [
    "# Importing Libraries"
   ]
  },
  {
   "cell_type": "code",
   "execution_count": 1,
   "metadata": {},
   "outputs": [
    {
     "name": "stderr",
     "output_type": "stream",
     "text": [
      "c:\\Users\\Pdogg Windows10\\Desktop\\Semester 7\\IT499 - Major Project II\\Project\\majorproject\\lib\\site-packages\\tqdm\\auto.py:21: TqdmWarning: IProgress not found. Please update jupyter and ipywidgets. See https://ipywidgets.readthedocs.io/en/stable/user_install.html\n",
      "  from .autonotebook import tqdm as notebook_tqdm\n"
     ]
    }
   ],
   "source": [
    "import os\n",
    "import numpy as np\n",
    "import torch\n",
    "import torch.nn as nn\n",
    "import timm\n",
    "import torchvision.models as models\n",
    "import torchvision.transforms as transforms\n",
    "import cv2\n",
    "from PIL import Image\n",
    "from skimage.feature import hog, local_binary_pattern"
   ]
  },
  {
   "cell_type": "code",
   "execution_count": 21,
   "metadata": {},
   "outputs": [],
   "source": [
    "DATASETS = {\n",
    "    \"1_UCI_Dataset\": \"./1_UCI_Dataset\",\n",
    "    \"2_Rice_Leaf_Disease_Images\": \"./2_Rice_Leaf_Disease_Images\",\n",
    "    \"3_Rice_Disease_Image_Dataset\": \"./3_Rice_Disease_Image_Dataset\",\n",
    "}\n",
    "\n",
    "# Ensure output directories exist\n",
    "os.makedirs(\"dataset_features\", exist_ok=True)\n",
    "for path in DATASETS.values():\n",
    "    os.makedirs(path, exist_ok=True)"
   ]
  },
  {
   "cell_type": "code",
   "execution_count": 9,
   "metadata": {},
   "outputs": [],
   "source": [
    "# Define image size\n",
    "image_size = (224, 224)\n",
    "\n",
    "# Define CNN models\n",
    "cnn_models = {\n",
    "    'ResNet-50': models.resnet50(pretrained=True),\n",
    "    'SE-ResNet-50': timm.create_model('seresnet50', pretrained=True),\n",
    "    'ResNeXt-50': timm.create_model('resnext50_32x4d', pretrained=True),\n",
    "    'ResNeSt-50': timm.create_model('resnest50d', pretrained=True),\n",
    "}"
   ]
  },
  {
   "cell_type": "code",
   "execution_count": 10,
   "metadata": {},
   "outputs": [],
   "source": [
    "# Image transformations\n",
    "transform = transforms.Compose([\n",
    "    transforms.Resize(image_size),\n",
    "    transforms.ToTensor(),\n",
    "    transforms.Normalize(mean=[0.485, 0.456, 0.406], std=[0.229, 0.224, 0.225])\n",
    "])"
   ]
  },
  {
   "cell_type": "code",
   "execution_count": 11,
   "metadata": {},
   "outputs": [],
   "source": [
    "# Load CNN model and remove last FC layer\n",
    "def load_cnn_model(model_name):\n",
    "    if model_name not in cnn_models:\n",
    "        raise ValueError(f\"Model '{model_name}' not found in supported models!\")\n",
    "\n",
    "    model = cnn_models[model_name]\n",
    "    model = nn.Sequential(*list(model.children())[:-1])  # Remove last FC layer\n",
    "    model.eval()\n",
    "    return model\n",
    "\n",
    "# Extract CNN features\n",
    "def extract_cnn_features(image, model):\n",
    "    image = transform(image).unsqueeze(0)  # Add batch dimension\n",
    "    with torch.no_grad():\n",
    "        features = model(image)\n",
    "    return features.flatten().numpy()\n",
    "\n",
    "# Extract handcrafted features (HOG, LBP, Color Histogram)\n",
    "def extract_handcrafted_features(image):\n",
    "    image_gray = cv2.cvtColor(image, cv2.COLOR_BGR2GRAY)\n",
    "    \n",
    "    # HOG Features\n",
    "    hog_features = hog(image_gray, pixels_per_cell=(16, 16), cells_per_block=(1, 1), feature_vector=True)\n",
    "\n",
    "    # LBP Features\n",
    "    lbp = local_binary_pattern(image_gray, P=24, R=3, method=\"uniform\")\n",
    "    lbp_hist, _ = np.histogram(lbp, bins=np.arange(0, 27), density=True)\n",
    "\n",
    "    # Color Histogram (RGB)\n",
    "    hist_r = cv2.calcHist([image], [0], None, [256], [0, 256]).flatten()\n",
    "    hist_g = cv2.calcHist([image], [1], None, [256], [0, 256]).flatten()\n",
    "    hist_b = cv2.calcHist([image], [2], None, [256], [0, 256]).flatten()\n",
    "\n",
    "    # Normalize and concatenate features\n",
    "    hist_rgb = np.concatenate([hist_r, hist_g, hist_b]) / np.linalg.norm(hist_r)\n",
    "    \n",
    "    return np.concatenate([hog_features, lbp_hist, hist_rgb])"
   ]
  },
  {
   "cell_type": "code",
   "execution_count": 24,
   "metadata": {},
   "outputs": [],
   "source": [
    "# Process dataset for all CNN models\n",
    "def process_dataset(dataset_name, dataset_path):\n",
    "    print(f\"\\n📂 Extracting features from: {dataset_name}\")\n",
    "\n",
    "    # Create subdirectories for each model inside dataset folder\n",
    "    model_dirs = {}\n",
    "    for model_name in cnn_models.keys():\n",
    "        model_dir = os.path.join(\"dataset_features\", dataset_name, model_name)\n",
    "        os.makedirs(model_dir, exist_ok=True)\n",
    "        model_dirs[model_name] = model_dir\n",
    "\n",
    "    # Initialize feature storage for all classes (Fix: Move this outside class loop)\n",
    "    features_per_model = {model: [] for model in cnn_models.keys()}\n",
    "    labels_per_model = {model: [] for model in cnn_models.keys()}\n",
    "    label_mapping = {}  # To map class names to numeric labels\n",
    "    class_id = 0\n",
    "\n",
    "    # Iterate over class folders (Diseases)\n",
    "    for class_name in os.listdir(dataset_path):\n",
    "        class_path = os.path.join(dataset_path, class_name)\n",
    "\n",
    "        if not os.path.isdir(class_path):\n",
    "            continue  # Skip non-directory files\n",
    "\n",
    "        print(f\"🔹 Processing class: {class_name}\")\n",
    "\n",
    "        # Assign a numeric label to this class\n",
    "        if class_name not in label_mapping:\n",
    "            label_mapping[class_name] = class_id\n",
    "            class_id += 1\n",
    "\n",
    "        for img_file in os.listdir(class_path):\n",
    "            img_path = os.path.join(class_path, img_file)\n",
    "\n",
    "            # Read image\n",
    "            image = cv2.imread(img_path)\n",
    "            if image is None:\n",
    "                print(f\"❌ Skipping corrupt or unreadable image: {img_path}\")\n",
    "                continue\n",
    "\n",
    "            # Extract handcrafted features\n",
    "            handcrafted_feat = extract_handcrafted_features(image)\n",
    "\n",
    "            # Extract features from each CNN model\n",
    "            for model_name in cnn_models.keys():\n",
    "                model = load_cnn_model(model_name)\n",
    "                cnn_feat = extract_cnn_features(Image.fromarray(cv2.cvtColor(image, cv2.COLOR_BGR2RGB)), model)\n",
    "\n",
    "                # Combine CNN and handcrafted features\n",
    "                combined_features = np.concatenate([cnn_feat, handcrafted_feat])\n",
    "\n",
    "                features_per_model[model_name].append(combined_features)\n",
    "                labels_per_model[model_name].append(label_mapping[class_name])  # Store numeric label\n",
    "\n",
    "    # Save features for each model **after processing all classes**\n",
    "    for model_name in cnn_models.keys():\n",
    "        if features_per_model[model_name]:  # Ensure there's data before saving\n",
    "            np.save(os.path.join(model_dirs[model_name], \"features.npy\"), np.array(features_per_model[model_name]))\n",
    "            np.save(os.path.join(model_dirs[model_name], \"labels.npy\"), np.array(labels_per_model[model_name]))\n",
    "            print(f\"✅ Features saved in {dataset_name}/{model_name}/ (Features per image: {len(features_per_model[model_name][0])})\")"
   ]
  },
  {
   "cell_type": "code",
   "execution_count": 25,
   "metadata": {},
   "outputs": [
    {
     "name": "stdout",
     "output_type": "stream",
     "text": [
      "\n",
      "📂 Extracting features from: 1_UCI_Dataset\n",
      "🔹 Processing class: Bacterial leaf blight\n",
      "🔹 Processing class: Brown spot\n",
      "🔹 Processing class: Leaf smut\n",
      "✅ Features saved in 1_UCI_Dataset/ResNet-50/ (Features per image: 4606)\n",
      "✅ Features saved in 1_UCI_Dataset/SE-ResNet-50/ (Features per image: 4606)\n",
      "✅ Features saved in 1_UCI_Dataset/ResNeXt-50/ (Features per image: 4606)\n",
      "✅ Features saved in 1_UCI_Dataset/ResNeSt-50/ (Features per image: 4606)\n",
      "\n",
      "📂 Extracting features from: 2_Rice_Leaf_Disease_Images\n",
      "🔹 Processing class: Bacterialblight\n",
      "🔹 Processing class: Blast\n",
      "🔹 Processing class: Brownspot\n",
      "🔹 Processing class: Tungro\n",
      "✅ Features saved in 2_Rice_Leaf_Disease_Images/ResNet-50/ (Features per image: 4606)\n",
      "✅ Features saved in 2_Rice_Leaf_Disease_Images/SE-ResNet-50/ (Features per image: 4606)\n",
      "✅ Features saved in 2_Rice_Leaf_Disease_Images/ResNeXt-50/ (Features per image: 4606)\n",
      "✅ Features saved in 2_Rice_Leaf_Disease_Images/ResNeSt-50/ (Features per image: 4606)\n",
      "\n",
      "📂 Extracting features from: 3_Rice_Disease_Image_Dataset\n",
      "🔹 Processing class: BrownSpot\n",
      "🔹 Processing class: Healthy\n",
      "🔹 Processing class: LeafBlast\n",
      "✅ Features saved in 3_Rice_Disease_Image_Dataset/ResNet-50/ (Features per image: 4606)\n",
      "✅ Features saved in 3_Rice_Disease_Image_Dataset/SE-ResNet-50/ (Features per image: 4606)\n",
      "✅ Features saved in 3_Rice_Disease_Image_Dataset/ResNeXt-50/ (Features per image: 4606)\n",
      "✅ Features saved in 3_Rice_Disease_Image_Dataset/ResNeSt-50/ (Features per image: 4606)\n",
      "\n",
      "🎉 Feature extraction completed for all datasets!\n"
     ]
    }
   ],
   "source": [
    "for dataset_name, dataset_path in DATASETS.items():\n",
    "    process_dataset(dataset_name, dataset_path)\n",
    "\n",
    "print(\"\\n🎉 Feature extraction completed for all datasets!\")"
   ]
  },
  {
   "cell_type": "code",
   "execution_count": null,
   "metadata": {},
   "outputs": [],
   "source": []
  }
 ],
 "metadata": {
  "kernelspec": {
   "display_name": "majorproject",
   "language": "python",
   "name": "python3"
  },
  "language_info": {
   "codemirror_mode": {
    "name": "ipython",
    "version": 3
   },
   "file_extension": ".py",
   "mimetype": "text/x-python",
   "name": "python",
   "nbconvert_exporter": "python",
   "pygments_lexer": "ipython3",
   "version": "3.9.0"
  }
 },
 "nbformat": 4,
 "nbformat_minor": 2
}
