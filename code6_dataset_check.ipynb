{
 "cells": [
  {
   "cell_type": "markdown",
   "metadata": {},
   "source": [
    "# Importing Libraries"
   ]
  },
  {
   "cell_type": "code",
   "execution_count": 2,
   "metadata": {},
   "outputs": [],
   "source": [
    "import numpy as np\n",
    "import os"
   ]
  },
  {
   "cell_type": "code",
   "execution_count": 7,
   "metadata": {},
   "outputs": [
    {
     "name": "stdout",
     "output_type": "stream",
     "text": [
      "\n",
      "📂 Checking dataset: 1_UCI_Dataset\n",
      "🔹 Model: ResNeSt-50\n",
      "   ➡️ Feature Shape: (120, 4606)\n",
      "   ➡️ Number of Labels: 120\n",
      "   ➡️ Unique Labels: [0 1 2]\n",
      "🔹 Model: ResNet-50\n",
      "   ➡️ Feature Shape: (120, 4606)\n",
      "   ➡️ Number of Labels: 120\n",
      "   ➡️ Unique Labels: [0 1 2]\n",
      "🔹 Model: ResNeXt-50\n",
      "   ➡️ Feature Shape: (120, 4606)\n",
      "   ➡️ Number of Labels: 120\n",
      "   ➡️ Unique Labels: [0 1 2]\n",
      "🔹 Model: SE-ResNet-50\n",
      "   ➡️ Feature Shape: (120, 4606)\n",
      "   ➡️ Number of Labels: 120\n",
      "   ➡️ Unique Labels: [0 1 2]\n",
      "\n",
      "📂 Checking dataset: 2_Rice_Leaf_Disease_Images\n",
      "🔹 Model: ResNeSt-50\n",
      "   ➡️ Feature Shape: (5932, 4606)\n",
      "   ➡️ Number of Labels: 5932\n",
      "   ➡️ Unique Labels: [0 1 2 3]\n",
      "🔹 Model: ResNet-50\n",
      "   ➡️ Feature Shape: (5932, 4606)\n",
      "   ➡️ Number of Labels: 5932\n",
      "   ➡️ Unique Labels: [0 1 2 3]\n",
      "🔹 Model: ResNeXt-50\n",
      "   ➡️ Feature Shape: (5932, 4606)\n",
      "   ➡️ Number of Labels: 5932\n",
      "   ➡️ Unique Labels: [0 1 2 3]\n",
      "🔹 Model: SE-ResNet-50\n",
      "   ➡️ Feature Shape: (5932, 4606)\n",
      "   ➡️ Number of Labels: 5932\n",
      "   ➡️ Unique Labels: [0 1 2 3]\n",
      "\n",
      "📂 Checking dataset: 3_Rice_Disease_Image_Dataset\n",
      "🔹 Model: ResNeSt-50\n",
      "   ➡️ Feature Shape: (1548, 4606)\n",
      "   ➡️ Number of Labels: 1548\n",
      "   ➡️ Unique Labels: [0 1 2]\n",
      "🔹 Model: ResNet-50\n",
      "   ➡️ Feature Shape: (1548, 4606)\n",
      "   ➡️ Number of Labels: 1548\n",
      "   ➡️ Unique Labels: [0 1 2]\n",
      "🔹 Model: ResNeXt-50\n",
      "   ➡️ Feature Shape: (1548, 4606)\n",
      "   ➡️ Number of Labels: 1548\n",
      "   ➡️ Unique Labels: [0 1 2]\n",
      "🔹 Model: SE-ResNet-50\n",
      "   ➡️ Feature Shape: (1548, 4606)\n",
      "   ➡️ Number of Labels: 1548\n",
      "   ➡️ Unique Labels: [0 1 2]\n"
     ]
    }
   ],
   "source": [
    "# Define dataset paths\n",
    "DATASETS = [\"1_UCI_Dataset\", \"2_Rice_Leaf_Disease_Images\", \"3_Rice_Disease_Image_Dataset\"]\n",
    "MODELS = [\"ResNeSt-50\", \"ResNet-50\", \"ResNeXt-50\", \"SE-ResNet-50\"]\n",
    "dataset_root_path = \"dataset_features\"\n",
    "\n",
    "# Loop through datasets and models\n",
    "for dataset in DATASETS:\n",
    "    print(f\"\\n📂 Checking dataset: {dataset}\")\n",
    "    \n",
    "    for model in MODELS:\n",
    "        feature_path = os.path.join(dataset_root_path, dataset, model, \"features.npy\")\n",
    "        label_path = os.path.join(dataset_root_path, dataset, model, \"labels.npy\")\n",
    "\n",
    "        if os.path.exists(feature_path) and os.path.exists(label_path):\n",
    "            features = np.load(feature_path)\n",
    "            labels = np.load(label_path)\n",
    "\n",
    "            print(f\"🔹 Model: {model}\")\n",
    "            print(f\"   ➡️ Feature Shape: {features.shape}\")  # (num_images, num_features)\n",
    "            print(f\"   ➡️ Number of Labels: {labels.shape[0]}\")\n",
    "            print(f\"   ➡️ Unique Labels: {np.unique(labels)}\")\n",
    "        else:\n",
    "            print(f\"❌ Missing files for {model} in {dataset}\")"
   ]
  },
  {
   "cell_type": "code",
   "execution_count": null,
   "metadata": {},
   "outputs": [],
   "source": []
  }
 ],
 "metadata": {
  "kernelspec": {
   "display_name": "majorproject",
   "language": "python",
   "name": "python3"
  },
  "language_info": {
   "codemirror_mode": {
    "name": "ipython",
    "version": 3
   },
   "file_extension": ".py",
   "mimetype": "text/x-python",
   "name": "python",
   "nbconvert_exporter": "python",
   "pygments_lexer": "ipython3",
   "version": "3.9.0"
  }
 },
 "nbformat": 4,
 "nbformat_minor": 2
}
