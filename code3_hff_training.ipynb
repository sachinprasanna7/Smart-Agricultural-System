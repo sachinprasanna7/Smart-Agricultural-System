{
 "cells": [
  {
   "cell_type": "markdown",
   "metadata": {},
   "source": [
    "# Importing Libraries"
   ]
  },
  {
   "cell_type": "code",
   "execution_count": 23,
   "metadata": {},
   "outputs": [],
   "source": [
    "import os\n",
    "import numpy as np\n",
    "import torch\n",
    "import torch.nn as nn\n",
    "import torch.optim as optim\n",
    "from torch.utils.data import DataLoader, TensorDataset\n",
    "from sklearn.ensemble import RandomForestClassifier, GradientBoostingClassifier\n",
    "from sklearn.svm import SVC\n",
    "from sklearn.linear_model import LogisticRegression\n",
    "from sklearn.metrics import accuracy_score\n",
    "import joblib  # For saving non-PyTorch models"
   ]
  },
  {
   "cell_type": "code",
   "execution_count": 5,
   "metadata": {},
   "outputs": [],
   "source": [
    "# Ensure 'models' directory exists\n",
    "os.makedirs(\"models\", exist_ok=True)"
   ]
  },
  {
   "cell_type": "code",
   "execution_count": 20,
   "metadata": {},
   "outputs": [],
   "source": [
    "# Function to load dataset based on CNN model type and dataset type (train/test)\n",
    "def load_dataset(cnn_model=\"ResNet-50\", data_type=\"train\"):\n",
    "    base_path = os.path.join(\"features\", cnn_model, data_type)  # Example: features/resnet\n",
    "\n",
    "    # File names\n",
    "    X_filename = f\"hff_features_{data_type}.npy\"\n",
    "    y_filename = f\"hff_labels_{data_type}.npy\"\n",
    "\n",
    "    X_path = os.path.join(base_path, X_filename)\n",
    "    y_path = os.path.join(base_path, y_filename)\n",
    "\n",
    "    # Load Features and Labels\n",
    "    if not os.path.exists(X_path) or not os.path.exists(y_path):\n",
    "        raise FileNotFoundError(f\"❌ Dataset files not found in {base_path}\")\n",
    "\n",
    "    X = np.load(X_path)\n",
    "    y = np.load(y_path)\n",
    "\n",
    "    print(f\"✅ Loaded {data_type} data from {cnn_model} features: {X.shape}, Labels: {y.shape}\")\n",
    "    \n",
    "    return X, y"
   ]
  },
  {
   "cell_type": "code",
   "execution_count": 14,
   "metadata": {},
   "outputs": [],
   "source": [
    "# Define the Neural Network Classifier\n",
    "class HFFClassifier(nn.Module):\n",
    "    def __init__(self, input_size, num_classes):\n",
    "        super(HFFClassifier, self).__init__()\n",
    "        self.fc1 = nn.Linear(input_size, 512)\n",
    "        self.relu = nn.ReLU()\n",
    "        self.fc2 = nn.Linear(512, 256)\n",
    "        self.fc3 = nn.Linear(256, num_classes)\n",
    "        self.softmax = nn.Softmax(dim=1)\n",
    "\n",
    "    def forward(self, x):\n",
    "        x = self.relu(self.fc1(x))\n",
    "        x = self.relu(self.fc2(x))\n",
    "        x = self.softmax(self.fc3(x))\n",
    "        return x"
   ]
  },
  {
   "cell_type": "code",
   "execution_count": 15,
   "metadata": {},
   "outputs": [],
   "source": [
    "# Training Function for Neural Network\n",
    "def train_neural_network(cnn_model=\"resnet\", num_epochs=30, batch_size=64, optimizer_type=\"adam\"):\n",
    "    print(f\"🔄 Loading dataset from {cnn_model} features...\")\n",
    "    X_train, y_train = load_dataset(cnn_model, \"train\")\n",
    "    X_test, y_test = load_dataset(cnn_model, \"test\")\n",
    "    \n",
    "    # Convert to PyTorch tensors\n",
    "    X_train_tensor = torch.tensor(X_train, dtype=torch.float32)\n",
    "    y_train_tensor = torch.tensor(y_train, dtype=torch.long)\n",
    "    X_test_tensor = torch.tensor(X_test, dtype=torch.float32)\n",
    "    y_test_tensor = torch.tensor(y_test, dtype=torch.long)\n",
    "\n",
    "    train_dataset = TensorDataset(X_train_tensor, y_train_tensor)\n",
    "    test_dataset = TensorDataset(X_test_tensor, y_test_tensor)\n",
    "\n",
    "    train_loader = DataLoader(train_dataset, batch_size=batch_size, shuffle=True)\n",
    "    test_loader = DataLoader(test_dataset, batch_size=batch_size, shuffle=False)\n",
    "\n",
    "    input_size = X_train.shape[1]\n",
    "    num_classes = len(set(y_train))\n",
    "    model = HFFClassifier(input_size, num_classes)\n",
    "\n",
    "    # Choose Optimizer\n",
    "    if optimizer_type.lower() == \"adam\":\n",
    "        optimizer = optim.Adam(model.parameters(), lr=0.001)\n",
    "    elif optimizer_type.lower() == \"sgd\":\n",
    "        optimizer = optim.SGD(model.parameters(), lr=0.01, momentum=0.9)\n",
    "    else:\n",
    "        raise ValueError(\"Unsupported optimizer. Use 'adam' or 'sgd'.\")\n",
    "\n",
    "    criterion = nn.CrossEntropyLoss()\n",
    "\n",
    "    # Training Loop\n",
    "    for epoch in range(num_epochs):\n",
    "        model.train()\n",
    "        total_loss, correct_train, total_train = 0, 0, 0\n",
    "\n",
    "        for inputs, targets in train_loader:\n",
    "            optimizer.zero_grad()\n",
    "            outputs = model(inputs)\n",
    "            loss = criterion(outputs, targets)\n",
    "            loss.backward()\n",
    "            optimizer.step()\n",
    "            total_loss += loss.item()\n",
    "            _, predicted = torch.max(outputs, 1)\n",
    "            correct_train += (predicted == targets).sum().item()\n",
    "            total_train += targets.size(0)\n",
    "\n",
    "        train_accuracy = correct_train / total_train * 100\n",
    "\n",
    "        # Evaluation Phase\n",
    "        model.eval()\n",
    "        correct_test, total_test = 0, 0\n",
    "        with torch.no_grad():\n",
    "            for inputs, targets in test_loader:\n",
    "                outputs = model(inputs)\n",
    "                _, predicted = torch.max(outputs, 1)\n",
    "                correct_test += (predicted == targets).sum().item()\n",
    "                total_test += targets.size(0)\n",
    "\n",
    "        test_accuracy = correct_test / total_test * 100\n",
    "        print(f\"Epoch [{epoch+1}/{num_epochs}], Loss: {total_loss/len(train_loader):.4f}, \"\n",
    "              f\"Train Accuracy: {train_accuracy:.2f}%, Test Accuracy: {test_accuracy:.2f}%\")\n",
    "\n",
    "    print(\"✅ Training Completed!\")\n",
    "    \n",
    "    # Ensure models directory exists\n",
    "    os.makedirs(\"models\", exist_ok=True)\n",
    "\n",
    "    model_path = f\"models/hff_nn_{cnn_model}.pth\"\n",
    "    torch.save(model.state_dict(), model_path)\n",
    "    print(f\"✅ Neural Network Model Saved: {model_path}\")\n",
    "\n",
    "    return model"
   ]
  },
  {
   "cell_type": "code",
   "execution_count": null,
   "metadata": {},
   "outputs": [],
   "source": [
    "# Training Function for Other Models\n",
    "def train_other_models(cnn_model=\"resnet\", model_type=\"random_forest\"):\n",
    "    print(f\"🔄 Loading dataset from {cnn_model} features...\")\n",
    "    X_train, y_train = load_dataset(cnn_model, \"train\")\n",
    "    X_test, y_test = load_dataset(cnn_model, \"test\")\n",
    "\n",
    "    # Initialize model\n",
    "    if model_type.lower() == \"random_forest\":\n",
    "        model = RandomForestClassifier(n_estimators=100, random_state=42)\n",
    "    elif model_type.lower() == \"svm\":\n",
    "        model = SVC(kernel=\"rbf\", probability=True)\n",
    "    elif model_type.lower() == \"logistic_regression\":\n",
    "        model = LogisticRegression(max_iter=1000)\n",
    "    else:\n",
    "        raise ValueError(\"Unsupported model. Choose 'random_forest', 'svm', 'logistic_regression', or 'gradient_boosting'.\")\n",
    "\n",
    "    print(f\"🔄 Training {model_type} model on {cnn_model} features...\")\n",
    "    model.fit(X_train, y_train)\n",
    "\n",
    "    # Evaluate Training Accuracy\n",
    "    y_train_pred = model.predict(X_train)\n",
    "    train_accuracy = accuracy_score(y_train, y_train_pred)\n",
    "\n",
    "    # Evaluate Test Accuracy\n",
    "    y_test_pred = model.predict(X_test)\n",
    "    test_accuracy = accuracy_score(y_test, y_test_pred)\n",
    "\n",
    "    print(f\"✅ {model_type} Model Accuracy on {cnn_model}:\")\n",
    "    print(f\"   - Train Accuracy: {train_accuracy * 100:.2f}%\")\n",
    "    print(f\"   - Test Accuracy: {test_accuracy * 100:.2f}%\")\n",
    "\n",
    "    # Ensure models directory exists\n",
    "    os.makedirs(\"models\", exist_ok=True)\n",
    "\n",
    "    # Save Model\n",
    "    model_path = f\"models/hff_{model_type}_{cnn_model}.pkl\"\n",
    "    joblib.dump(model, model_path)\n",
    "    print(f\"✅ {model_type} Model Saved: {model_path}\")"
   ]
  },
  {
   "cell_type": "code",
   "execution_count": null,
   "metadata": {},
   "outputs": [],
   "source": []
  },
  {
   "cell_type": "markdown",
   "metadata": {},
   "source": [
    "## ResNet-50"
   ]
  },
  {
   "cell_type": "code",
   "execution_count": 21,
   "metadata": {},
   "outputs": [
    {
     "name": "stdout",
     "output_type": "stream",
     "text": [
      "🔄 Loading dataset from ResNet-50 features...\n",
      "✅ Loaded train data from ResNet-50 features: (9246, 4606), Labels: (9246,)\n",
      "✅ Loaded test data from ResNet-50 features: (2308, 4606), Labels: (2308,)\n",
      "Epoch [1/30], Loss: 1.5986, Train Accuracy: 57.06%, Test Accuracy: 63.69%\n",
      "Epoch [2/30], Loss: 1.4987, Train Accuracy: 66.66%, Test Accuracy: 67.85%\n",
      "Epoch [3/30], Loss: 1.4832, Train Accuracy: 68.23%, Test Accuracy: 65.03%\n",
      "Epoch [4/30], Loss: 1.4562, Train Accuracy: 70.86%, Test Accuracy: 69.97%\n",
      "Epoch [5/30], Loss: 1.4325, Train Accuracy: 73.04%, Test Accuracy: 76.39%\n",
      "Epoch [6/30], Loss: 1.4075, Train Accuracy: 75.70%, Test Accuracy: 74.70%\n",
      "Epoch [7/30], Loss: 1.3993, Train Accuracy: 76.56%, Test Accuracy: 78.16%\n",
      "Epoch [8/30], Loss: 1.3824, Train Accuracy: 78.36%, Test Accuracy: 75.87%\n",
      "Epoch [9/30], Loss: 1.3790, Train Accuracy: 78.49%, Test Accuracy: 75.87%\n",
      "Epoch [10/30], Loss: 1.3797, Train Accuracy: 78.50%, Test Accuracy: 78.81%\n",
      "Epoch [11/30], Loss: 1.3769, Train Accuracy: 78.76%, Test Accuracy: 75.61%\n",
      "Epoch [12/30], Loss: 1.3739, Train Accuracy: 79.14%, Test Accuracy: 77.99%\n",
      "Epoch [13/30], Loss: 1.3729, Train Accuracy: 79.20%, Test Accuracy: 79.16%\n",
      "Epoch [14/30], Loss: 1.3623, Train Accuracy: 80.22%, Test Accuracy: 79.38%\n",
      "Epoch [15/30], Loss: 1.3553, Train Accuracy: 81.03%, Test Accuracy: 79.94%\n",
      "Epoch [16/30], Loss: 1.3507, Train Accuracy: 81.49%, Test Accuracy: 79.12%\n",
      "Epoch [17/30], Loss: 1.3503, Train Accuracy: 81.46%, Test Accuracy: 80.46%\n",
      "Epoch [18/30], Loss: 1.3511, Train Accuracy: 81.33%, Test Accuracy: 79.38%\n",
      "Epoch [19/30], Loss: 1.3370, Train Accuracy: 82.65%, Test Accuracy: 82.67%\n",
      "Epoch [20/30], Loss: 1.3308, Train Accuracy: 83.47%, Test Accuracy: 80.03%\n",
      "Epoch [21/30], Loss: 1.3152, Train Accuracy: 84.92%, Test Accuracy: 81.93%\n",
      "Epoch [22/30], Loss: 1.3043, Train Accuracy: 86.04%, Test Accuracy: 85.05%\n",
      "Epoch [23/30], Loss: 1.3073, Train Accuracy: 85.82%, Test Accuracy: 81.41%\n",
      "Epoch [24/30], Loss: 1.3005, Train Accuracy: 86.45%, Test Accuracy: 83.80%\n",
      "Epoch [25/30], Loss: 1.2909, Train Accuracy: 87.42%, Test Accuracy: 85.53%\n",
      "Epoch [26/30], Loss: 1.2927, Train Accuracy: 87.21%, Test Accuracy: 84.62%\n",
      "Epoch [27/30], Loss: 1.2745, Train Accuracy: 89.04%, Test Accuracy: 86.83%\n",
      "Epoch [28/30], Loss: 1.2666, Train Accuracy: 89.92%, Test Accuracy: 85.92%\n",
      "Epoch [29/30], Loss: 1.2674, Train Accuracy: 89.73%, Test Accuracy: 88.47%\n",
      "Epoch [30/30], Loss: 1.2612, Train Accuracy: 90.41%, Test Accuracy: 88.69%\n",
      "✅ Training Completed!\n",
      "✅ Neural Network Model Saved: models/hff_nn_ResNet-50.pth\n"
     ]
    },
    {
     "data": {
      "text/plain": [
       "HFFClassifier(\n",
       "  (fc1): Linear(in_features=4606, out_features=512, bias=True)\n",
       "  (relu): ReLU()\n",
       "  (fc2): Linear(in_features=512, out_features=256, bias=True)\n",
       "  (fc3): Linear(in_features=256, out_features=7, bias=True)\n",
       "  (softmax): Softmax(dim=1)\n",
       ")"
      ]
     },
     "execution_count": 21,
     "metadata": {},
     "output_type": "execute_result"
    }
   ],
   "source": [
    "train_neural_network(\"ResNet-50\", num_epochs=30, batch_size=64, optimizer_type=\"adam\")"
   ]
  },
  {
   "cell_type": "code",
   "execution_count": 25,
   "metadata": {},
   "outputs": [
    {
     "name": "stdout",
     "output_type": "stream",
     "text": [
      "🔄 Loading dataset from ResNet-50 features...\n",
      "✅ Loaded train data from ResNet-50 features: (9246, 4606), Labels: (9246,)\n",
      "✅ Loaded test data from ResNet-50 features: (2308, 4606), Labels: (2308,)\n",
      "🔄 Training random_forest model on ResNet-50 features...\n",
      "✅ random_forest Model Accuracy on ResNet-50:\n",
      "   - Train Accuracy: 100.00%\n",
      "   - Test Accuracy: 89.43%\n",
      "✅ random_forest Model Saved: models/hff_random_forest_ResNet-50.pkl\n"
     ]
    }
   ],
   "source": [
    "train_other_models(\"ResNet-50\", \"random_forest\")"
   ]
  },
  {
   "cell_type": "code",
   "execution_count": 26,
   "metadata": {},
   "outputs": [
    {
     "name": "stdout",
     "output_type": "stream",
     "text": [
      "🔄 Loading dataset from ResNet-50 features...\n",
      "✅ Loaded train data from ResNet-50 features: (9246, 4606), Labels: (9246,)\n",
      "✅ Loaded test data from ResNet-50 features: (2308, 4606), Labels: (2308,)\n",
      "🔄 Training svm model on ResNet-50 features...\n",
      "✅ svm Model Accuracy on ResNet-50:\n",
      "   - Train Accuracy: 92.43%\n",
      "   - Test Accuracy: 88.78%\n",
      "✅ svm Model Saved: models/hff_svm_ResNet-50.pkl\n"
     ]
    }
   ],
   "source": [
    "train_other_models(\"ResNet-50\", \"svm\")"
   ]
  },
  {
   "cell_type": "code",
   "execution_count": 27,
   "metadata": {},
   "outputs": [
    {
     "name": "stdout",
     "output_type": "stream",
     "text": [
      "🔄 Loading dataset from ResNet-50 features...\n",
      "✅ Loaded train data from ResNet-50 features: (9246, 4606), Labels: (9246,)\n",
      "✅ Loaded test data from ResNet-50 features: (2308, 4606), Labels: (2308,)\n",
      "🔄 Training logistic_regression model on ResNet-50 features...\n",
      "✅ logistic_regression Model Accuracy on ResNet-50:\n",
      "   - Train Accuracy: 100.00%\n",
      "   - Test Accuracy: 91.16%\n",
      "✅ logistic_regression Model Saved: models/hff_logistic_regression_ResNet-50.pkl\n"
     ]
    }
   ],
   "source": [
    "train_other_models(\"ResNet-50\", \"logistic_regression\")"
   ]
  },
  {
   "cell_type": "code",
   "execution_count": 29,
   "metadata": {},
   "outputs": [],
   "source": [
    "# train_other_models(\"ResNet-50\", \"gradient_boosting\")  "
   ]
  },
  {
   "cell_type": "markdown",
   "metadata": {},
   "source": [
    "## ResNeSt-50"
   ]
  },
  {
   "cell_type": "code",
   "execution_count": 30,
   "metadata": {},
   "outputs": [
    {
     "name": "stdout",
     "output_type": "stream",
     "text": [
      "🔄 Loading dataset from ResNeSt-50 features...\n",
      "✅ Loaded train data from ResNeSt-50 features: (9246, 4606), Labels: (9246,)\n",
      "✅ Loaded test data from ResNeSt-50 features: (2308, 4606), Labels: (2308,)\n",
      "Epoch [1/30], Loss: 1.5504, Train Accuracy: 61.91%, Test Accuracy: 70.28%\n",
      "Epoch [2/30], Loss: 1.4149, Train Accuracy: 75.26%, Test Accuracy: 77.56%\n",
      "Epoch [3/30], Loss: 1.3645, Train Accuracy: 80.05%, Test Accuracy: 80.68%\n",
      "Epoch [4/30], Loss: 1.3554, Train Accuracy: 80.92%, Test Accuracy: 81.85%\n",
      "Epoch [5/30], Loss: 1.3237, Train Accuracy: 84.25%, Test Accuracy: 78.86%\n",
      "Epoch [6/30], Loss: 1.3229, Train Accuracy: 84.21%, Test Accuracy: 81.93%\n",
      "Epoch [7/30], Loss: 1.3017, Train Accuracy: 86.35%, Test Accuracy: 79.90%\n",
      "Epoch [8/30], Loss: 1.2937, Train Accuracy: 87.10%, Test Accuracy: 85.92%\n",
      "Epoch [9/30], Loss: 1.2831, Train Accuracy: 88.05%, Test Accuracy: 80.16%\n",
      "Epoch [10/30], Loss: 1.2716, Train Accuracy: 89.43%, Test Accuracy: 87.52%\n",
      "Epoch [11/30], Loss: 1.2760, Train Accuracy: 88.85%, Test Accuracy: 87.05%\n",
      "Epoch [12/30], Loss: 1.2777, Train Accuracy: 88.71%, Test Accuracy: 86.87%\n",
      "Epoch [13/30], Loss: 1.2541, Train Accuracy: 91.10%, Test Accuracy: 88.47%\n",
      "Epoch [14/30], Loss: 1.2494, Train Accuracy: 91.65%, Test Accuracy: 88.65%\n",
      "Epoch [15/30], Loss: 1.2562, Train Accuracy: 90.87%, Test Accuracy: 87.87%\n",
      "Epoch [16/30], Loss: 1.2450, Train Accuracy: 92.08%, Test Accuracy: 88.78%\n",
      "Epoch [17/30], Loss: 1.2415, Train Accuracy: 92.38%, Test Accuracy: 87.61%\n",
      "Epoch [18/30], Loss: 1.2392, Train Accuracy: 92.71%, Test Accuracy: 88.30%\n",
      "Epoch [19/30], Loss: 1.2459, Train Accuracy: 91.86%, Test Accuracy: 87.48%\n",
      "Epoch [20/30], Loss: 1.2362, Train Accuracy: 92.99%, Test Accuracy: 88.30%\n",
      "Epoch [21/30], Loss: 1.2401, Train Accuracy: 92.57%, Test Accuracy: 88.73%\n",
      "Epoch [22/30], Loss: 1.2379, Train Accuracy: 92.72%, Test Accuracy: 88.65%\n",
      "Epoch [23/30], Loss: 1.2332, Train Accuracy: 93.16%, Test Accuracy: 84.88%\n",
      "Epoch [24/30], Loss: 1.2274, Train Accuracy: 93.77%, Test Accuracy: 91.03%\n",
      "Epoch [25/30], Loss: 1.2412, Train Accuracy: 92.34%, Test Accuracy: 86.53%\n",
      "Epoch [26/30], Loss: 1.2245, Train Accuracy: 94.03%, Test Accuracy: 90.73%\n",
      "Epoch [27/30], Loss: 1.2279, Train Accuracy: 93.66%, Test Accuracy: 89.34%\n",
      "Epoch [28/30], Loss: 1.2240, Train Accuracy: 94.04%, Test Accuracy: 90.94%\n",
      "Epoch [29/30], Loss: 1.2289, Train Accuracy: 93.59%, Test Accuracy: 90.55%\n",
      "Epoch [30/30], Loss: 1.2222, Train Accuracy: 94.28%, Test Accuracy: 90.90%\n",
      "✅ Training Completed!\n",
      "✅ Neural Network Model Saved: models/hff_nn_ResNeSt-50.pth\n"
     ]
    },
    {
     "data": {
      "text/plain": [
       "HFFClassifier(\n",
       "  (fc1): Linear(in_features=4606, out_features=512, bias=True)\n",
       "  (relu): ReLU()\n",
       "  (fc2): Linear(in_features=512, out_features=256, bias=True)\n",
       "  (fc3): Linear(in_features=256, out_features=7, bias=True)\n",
       "  (softmax): Softmax(dim=1)\n",
       ")"
      ]
     },
     "execution_count": 30,
     "metadata": {},
     "output_type": "execute_result"
    }
   ],
   "source": [
    "train_neural_network(\"ResNeSt-50\", num_epochs=30, batch_size=64, optimizer_type=\"adam\")"
   ]
  },
  {
   "cell_type": "code",
   "execution_count": 31,
   "metadata": {},
   "outputs": [
    {
     "name": "stdout",
     "output_type": "stream",
     "text": [
      "🔄 Loading dataset from ResNeSt-50 features...\n",
      "✅ Loaded train data from ResNeSt-50 features: (9246, 4606), Labels: (9246,)\n",
      "✅ Loaded test data from ResNeSt-50 features: (2308, 4606), Labels: (2308,)\n",
      "🔄 Training random_forest model on ResNeSt-50 features...\n",
      "✅ random_forest Model Accuracy on ResNeSt-50:\n",
      "   - Train Accuracy: 100.00%\n",
      "   - Test Accuracy: 88.99%\n",
      "✅ random_forest Model Saved: models/hff_random_forest_ResNeSt-50.pkl\n"
     ]
    }
   ],
   "source": [
    "train_other_models(\"ResNeSt-50\", \"random_forest\")"
   ]
  },
  {
   "cell_type": "code",
   "execution_count": 32,
   "metadata": {},
   "outputs": [
    {
     "name": "stdout",
     "output_type": "stream",
     "text": [
      "🔄 Loading dataset from ResNeSt-50 features...\n",
      "✅ Loaded train data from ResNeSt-50 features: (9246, 4606), Labels: (9246,)\n",
      "✅ Loaded test data from ResNeSt-50 features: (2308, 4606), Labels: (2308,)\n",
      "🔄 Training svm model on ResNeSt-50 features...\n",
      "✅ svm Model Accuracy on ResNeSt-50:\n",
      "   - Train Accuracy: 92.06%\n",
      "   - Test Accuracy: 89.04%\n",
      "✅ svm Model Saved: models/hff_svm_ResNeSt-50.pkl\n"
     ]
    }
   ],
   "source": [
    "train_other_models(\"ResNeSt-50\", \"svm\")"
   ]
  },
  {
   "cell_type": "code",
   "execution_count": 33,
   "metadata": {},
   "outputs": [
    {
     "name": "stdout",
     "output_type": "stream",
     "text": [
      "🔄 Loading dataset from ResNeSt-50 features...\n",
      "✅ Loaded train data from ResNeSt-50 features: (9246, 4606), Labels: (9246,)\n",
      "✅ Loaded test data from ResNeSt-50 features: (2308, 4606), Labels: (2308,)\n",
      "🔄 Training logistic_regression model on ResNeSt-50 features...\n",
      "✅ logistic_regression Model Accuracy on ResNeSt-50:\n",
      "   - Train Accuracy: 100.00%\n",
      "   - Test Accuracy: 92.50%\n",
      "✅ logistic_regression Model Saved: models/hff_logistic_regression_ResNeSt-50.pkl\n"
     ]
    }
   ],
   "source": [
    "train_other_models(\"ResNeSt-50\", \"logistic_regression\")"
   ]
  },
  {
   "cell_type": "code",
   "execution_count": 34,
   "metadata": {},
   "outputs": [],
   "source": [
    "# train_other_models(\"ResNeSt-50\", \"gradient_boosting\")"
   ]
  },
  {
   "cell_type": "markdown",
   "metadata": {},
   "source": [
    "## ResNeXt-50"
   ]
  },
  {
   "cell_type": "code",
   "execution_count": 35,
   "metadata": {},
   "outputs": [
    {
     "name": "stdout",
     "output_type": "stream",
     "text": [
      "🔄 Loading dataset from ResNeXt-50 features...\n",
      "✅ Loaded train data from ResNeXt-50 features: (9246, 4606), Labels: (9246,)\n",
      "✅ Loaded test data from ResNeXt-50 features: (2308, 4606), Labels: (2308,)\n",
      "Epoch [1/30], Loss: 1.6238, Train Accuracy: 54.54%, Test Accuracy: 61.70%\n",
      "Epoch [2/30], Loss: 1.4950, Train Accuracy: 67.26%, Test Accuracy: 68.11%\n",
      "Epoch [3/30], Loss: 1.4502, Train Accuracy: 71.65%, Test Accuracy: 73.27%\n",
      "Epoch [4/30], Loss: 1.4097, Train Accuracy: 75.79%, Test Accuracy: 78.12%\n",
      "Epoch [5/30], Loss: 1.3834, Train Accuracy: 78.23%, Test Accuracy: 78.38%\n",
      "Epoch [6/30], Loss: 1.3663, Train Accuracy: 80.15%, Test Accuracy: 78.38%\n",
      "Epoch [7/30], Loss: 1.3578, Train Accuracy: 80.76%, Test Accuracy: 79.55%\n",
      "Epoch [8/30], Loss: 1.3611, Train Accuracy: 80.43%, Test Accuracy: 77.99%\n",
      "Epoch [9/30], Loss: 1.3492, Train Accuracy: 81.71%, Test Accuracy: 79.51%\n",
      "Epoch [10/30], Loss: 1.3446, Train Accuracy: 82.15%, Test Accuracy: 79.90%\n",
      "Epoch [11/30], Loss: 1.3414, Train Accuracy: 82.42%, Test Accuracy: 80.16%\n",
      "Epoch [12/30], Loss: 1.3367, Train Accuracy: 82.90%, Test Accuracy: 77.69%\n",
      "Epoch [13/30], Loss: 1.3432, Train Accuracy: 82.30%, Test Accuracy: 80.07%\n",
      "Epoch [14/30], Loss: 1.3379, Train Accuracy: 82.81%, Test Accuracy: 76.52%\n",
      "Epoch [15/30], Loss: 1.3459, Train Accuracy: 81.91%, Test Accuracy: 80.16%\n",
      "Epoch [16/30], Loss: 1.3324, Train Accuracy: 83.37%, Test Accuracy: 81.02%\n",
      "Epoch [17/30], Loss: 1.3316, Train Accuracy: 83.50%, Test Accuracy: 80.37%\n",
      "Epoch [18/30], Loss: 1.3315, Train Accuracy: 83.43%, Test Accuracy: 80.11%\n",
      "Epoch [19/30], Loss: 1.3260, Train Accuracy: 83.92%, Test Accuracy: 81.80%\n",
      "Epoch [20/30], Loss: 1.3263, Train Accuracy: 83.91%, Test Accuracy: 81.15%\n",
      "Epoch [21/30], Loss: 1.3315, Train Accuracy: 83.34%, Test Accuracy: 81.50%\n",
      "Epoch [22/30], Loss: 1.3273, Train Accuracy: 83.85%, Test Accuracy: 81.98%\n",
      "Epoch [23/30], Loss: 1.3270, Train Accuracy: 83.79%, Test Accuracy: 80.20%\n",
      "Epoch [24/30], Loss: 1.3190, Train Accuracy: 84.51%, Test Accuracy: 81.72%\n",
      "Epoch [25/30], Loss: 1.3213, Train Accuracy: 84.36%, Test Accuracy: 76.65%\n",
      "Epoch [26/30], Loss: 1.3196, Train Accuracy: 84.62%, Test Accuracy: 78.25%\n",
      "Epoch [27/30], Loss: 1.3263, Train Accuracy: 83.87%, Test Accuracy: 81.37%\n",
      "Epoch [28/30], Loss: 1.3185, Train Accuracy: 84.67%, Test Accuracy: 81.98%\n",
      "Epoch [29/30], Loss: 1.3213, Train Accuracy: 84.37%, Test Accuracy: 81.93%\n",
      "Epoch [30/30], Loss: 1.3225, Train Accuracy: 84.31%, Test Accuracy: 74.48%\n",
      "✅ Training Completed!\n",
      "✅ Neural Network Model Saved: models/hff_nn_ResNeXt-50.pth\n"
     ]
    },
    {
     "data": {
      "text/plain": [
       "HFFClassifier(\n",
       "  (fc1): Linear(in_features=4606, out_features=512, bias=True)\n",
       "  (relu): ReLU()\n",
       "  (fc2): Linear(in_features=512, out_features=256, bias=True)\n",
       "  (fc3): Linear(in_features=256, out_features=7, bias=True)\n",
       "  (softmax): Softmax(dim=1)\n",
       ")"
      ]
     },
     "execution_count": 35,
     "metadata": {},
     "output_type": "execute_result"
    }
   ],
   "source": [
    "train_neural_network(\"ResNeXt-50\", num_epochs=30, batch_size=64, optimizer_type=\"adam\")"
   ]
  },
  {
   "cell_type": "code",
   "execution_count": 36,
   "metadata": {},
   "outputs": [
    {
     "name": "stdout",
     "output_type": "stream",
     "text": [
      "🔄 Loading dataset from ResNeXt-50 features...\n",
      "✅ Loaded train data from ResNeXt-50 features: (9246, 4606), Labels: (9246,)\n",
      "✅ Loaded test data from ResNeXt-50 features: (2308, 4606), Labels: (2308,)\n",
      "🔄 Training random_forest model on ResNeXt-50 features...\n",
      "✅ random_forest Model Accuracy on ResNeXt-50:\n",
      "   - Train Accuracy: 100.00%\n",
      "   - Test Accuracy: 89.12%\n",
      "✅ random_forest Model Saved: models/hff_random_forest_ResNeXt-50.pkl\n"
     ]
    }
   ],
   "source": [
    "train_other_models(\"ResNeXt-50\", \"random_forest\")"
   ]
  },
  {
   "cell_type": "code",
   "execution_count": 37,
   "metadata": {},
   "outputs": [
    {
     "name": "stdout",
     "output_type": "stream",
     "text": [
      "🔄 Loading dataset from ResNeXt-50 features...\n",
      "✅ Loaded train data from ResNeXt-50 features: (9246, 4606), Labels: (9246,)\n",
      "✅ Loaded test data from ResNeXt-50 features: (2308, 4606), Labels: (2308,)\n",
      "🔄 Training svm model on ResNeXt-50 features...\n",
      "✅ svm Model Accuracy on ResNeXt-50:\n",
      "   - Train Accuracy: 94.67%\n",
      "   - Test Accuracy: 88.91%\n",
      "✅ svm Model Saved: models/hff_svm_ResNeXt-50.pkl\n"
     ]
    }
   ],
   "source": [
    "train_other_models(\"ResNeXt-50\", \"svm\")"
   ]
  },
  {
   "cell_type": "code",
   "execution_count": 38,
   "metadata": {},
   "outputs": [
    {
     "name": "stdout",
     "output_type": "stream",
     "text": [
      "🔄 Loading dataset from ResNeXt-50 features...\n",
      "✅ Loaded train data from ResNeXt-50 features: (9246, 4606), Labels: (9246,)\n",
      "✅ Loaded test data from ResNeXt-50 features: (2308, 4606), Labels: (2308,)\n",
      "🔄 Training logistic_regression model on ResNeXt-50 features...\n",
      "✅ logistic_regression Model Accuracy on ResNeXt-50:\n",
      "   - Train Accuracy: 100.00%\n",
      "   - Test Accuracy: 89.90%\n",
      "✅ logistic_regression Model Saved: models/hff_logistic_regression_ResNeXt-50.pkl\n"
     ]
    }
   ],
   "source": [
    "train_other_models(\"ResNeXt-50\", \"logistic_regression\")"
   ]
  },
  {
   "cell_type": "code",
   "execution_count": 39,
   "metadata": {},
   "outputs": [],
   "source": [
    "# train_other_models(\"ResNeXt-50\", \"gradient_boosting\")"
   ]
  },
  {
   "cell_type": "markdown",
   "metadata": {},
   "source": [
    "## SE-ResNet-50"
   ]
  },
  {
   "cell_type": "code",
   "execution_count": 40,
   "metadata": {},
   "outputs": [
    {
     "name": "stdout",
     "output_type": "stream",
     "text": [
      "🔄 Loading dataset from SE-ResNet-50 features...\n",
      "✅ Loaded train data from SE-ResNet-50 features: (9246, 4606), Labels: (9246,)\n",
      "✅ Loaded test data from SE-ResNet-50 features: (2308, 4606), Labels: (2308,)\n",
      "Epoch [1/30], Loss: 1.6381, Train Accuracy: 53.15%, Test Accuracy: 63.91%\n",
      "Epoch [2/30], Loss: 1.4953, Train Accuracy: 67.42%, Test Accuracy: 69.84%\n",
      "Epoch [3/30], Loss: 1.4486, Train Accuracy: 71.88%, Test Accuracy: 68.46%\n",
      "Epoch [4/30], Loss: 1.4197, Train Accuracy: 74.67%, Test Accuracy: 73.44%\n",
      "Epoch [5/30], Loss: 1.3838, Train Accuracy: 78.30%, Test Accuracy: 79.33%\n",
      "Epoch [6/30], Loss: 1.3508, Train Accuracy: 81.55%, Test Accuracy: 80.94%\n",
      "Epoch [7/30], Loss: 1.3315, Train Accuracy: 83.52%, Test Accuracy: 83.93%\n",
      "Epoch [8/30], Loss: 1.3141, Train Accuracy: 85.25%, Test Accuracy: 84.32%\n",
      "Epoch [9/30], Loss: 1.3141, Train Accuracy: 85.15%, Test Accuracy: 83.28%\n",
      "Epoch [10/30], Loss: 1.3103, Train Accuracy: 85.50%, Test Accuracy: 81.41%\n",
      "Epoch [11/30], Loss: 1.3063, Train Accuracy: 86.02%, Test Accuracy: 84.49%\n",
      "Epoch [12/30], Loss: 1.3036, Train Accuracy: 86.15%, Test Accuracy: 83.84%\n",
      "Epoch [13/30], Loss: 1.2997, Train Accuracy: 86.62%, Test Accuracy: 80.20%\n",
      "Epoch [14/30], Loss: 1.2977, Train Accuracy: 86.77%, Test Accuracy: 85.23%\n",
      "Epoch [15/30], Loss: 1.2895, Train Accuracy: 87.69%, Test Accuracy: 84.01%\n",
      "Epoch [16/30], Loss: 1.2805, Train Accuracy: 88.55%, Test Accuracy: 85.05%\n",
      "Epoch [17/30], Loss: 1.2790, Train Accuracy: 88.72%, Test Accuracy: 85.14%\n",
      "Epoch [18/30], Loss: 1.2779, Train Accuracy: 88.76%, Test Accuracy: 85.79%\n",
      "Epoch [19/30], Loss: 1.2684, Train Accuracy: 89.74%, Test Accuracy: 82.84%\n",
      "Epoch [20/30], Loss: 1.2829, Train Accuracy: 88.34%, Test Accuracy: 85.57%\n",
      "Epoch [21/30], Loss: 1.2748, Train Accuracy: 89.17%, Test Accuracy: 85.40%\n",
      "Epoch [22/30], Loss: 1.2711, Train Accuracy: 89.39%, Test Accuracy: 85.23%\n",
      "Epoch [23/30], Loss: 1.2639, Train Accuracy: 90.16%, Test Accuracy: 82.41%\n",
      "Epoch [24/30], Loss: 1.2690, Train Accuracy: 89.61%, Test Accuracy: 85.66%\n",
      "Epoch [25/30], Loss: 1.2551, Train Accuracy: 91.08%, Test Accuracy: 86.96%\n",
      "Epoch [26/30], Loss: 1.2526, Train Accuracy: 91.23%, Test Accuracy: 85.01%\n",
      "Epoch [27/30], Loss: 1.2522, Train Accuracy: 91.42%, Test Accuracy: 81.80%\n",
      "Epoch [28/30], Loss: 1.2504, Train Accuracy: 91.48%, Test Accuracy: 83.15%\n",
      "Epoch [29/30], Loss: 1.2445, Train Accuracy: 92.14%, Test Accuracy: 86.70%\n",
      "Epoch [30/30], Loss: 1.2405, Train Accuracy: 92.54%, Test Accuracy: 87.65%\n",
      "✅ Training Completed!\n",
      "✅ Neural Network Model Saved: models/hff_nn_SE-ResNet-50.pth\n"
     ]
    },
    {
     "data": {
      "text/plain": [
       "HFFClassifier(\n",
       "  (fc1): Linear(in_features=4606, out_features=512, bias=True)\n",
       "  (relu): ReLU()\n",
       "  (fc2): Linear(in_features=512, out_features=256, bias=True)\n",
       "  (fc3): Linear(in_features=256, out_features=7, bias=True)\n",
       "  (softmax): Softmax(dim=1)\n",
       ")"
      ]
     },
     "execution_count": 40,
     "metadata": {},
     "output_type": "execute_result"
    }
   ],
   "source": [
    "train_neural_network(\"SE-ResNet-50\", num_epochs=30, batch_size=64, optimizer_type=\"adam\")"
   ]
  },
  {
   "cell_type": "code",
   "execution_count": 41,
   "metadata": {},
   "outputs": [
    {
     "name": "stdout",
     "output_type": "stream",
     "text": [
      "🔄 Loading dataset from SE-ResNet-50 features...\n",
      "✅ Loaded train data from SE-ResNet-50 features: (9246, 4606), Labels: (9246,)\n",
      "✅ Loaded test data from SE-ResNet-50 features: (2308, 4606), Labels: (2308,)\n",
      "🔄 Training random_forest model on SE-ResNet-50 features...\n",
      "✅ random_forest Model Accuracy on SE-ResNet-50:\n",
      "   - Train Accuracy: 100.00%\n",
      "   - Test Accuracy: 88.21%\n",
      "✅ random_forest Model Saved: models/hff_random_forest_SE-ResNet-50.pkl\n"
     ]
    }
   ],
   "source": [
    "train_other_models(\"SE-ResNet-50\", \"random_forest\")"
   ]
  },
  {
   "cell_type": "code",
   "execution_count": 42,
   "metadata": {},
   "outputs": [
    {
     "name": "stdout",
     "output_type": "stream",
     "text": [
      "🔄 Loading dataset from SE-ResNet-50 features...\n",
      "✅ Loaded train data from SE-ResNet-50 features: (9246, 4606), Labels: (9246,)\n",
      "✅ Loaded test data from SE-ResNet-50 features: (2308, 4606), Labels: (2308,)\n",
      "🔄 Training svm model on SE-ResNet-50 features...\n",
      "✅ svm Model Accuracy on SE-ResNet-50:\n",
      "   - Train Accuracy: 93.02%\n",
      "   - Test Accuracy: 86.48%\n",
      "✅ svm Model Saved: models/hff_svm_SE-ResNet-50.pkl\n"
     ]
    }
   ],
   "source": [
    "train_other_models(\"SE-ResNet-50\", \"svm\")"
   ]
  },
  {
   "cell_type": "code",
   "execution_count": 43,
   "metadata": {},
   "outputs": [
    {
     "name": "stdout",
     "output_type": "stream",
     "text": [
      "🔄 Loading dataset from SE-ResNet-50 features...\n",
      "✅ Loaded train data from SE-ResNet-50 features: (9246, 4606), Labels: (9246,)\n",
      "✅ Loaded test data from SE-ResNet-50 features: (2308, 4606), Labels: (2308,)\n",
      "🔄 Training logistic_regression model on SE-ResNet-50 features...\n",
      "✅ logistic_regression Model Accuracy on SE-ResNet-50:\n",
      "   - Train Accuracy: 99.99%\n",
      "   - Test Accuracy: 88.21%\n",
      "✅ logistic_regression Model Saved: models/hff_logistic_regression_SE-ResNet-50.pkl\n"
     ]
    }
   ],
   "source": [
    "train_other_models(\"SE-ResNet-50\", \"logistic_regression\")"
   ]
  },
  {
   "cell_type": "code",
   "execution_count": 44,
   "metadata": {},
   "outputs": [],
   "source": [
    "# train_other_models(\"SE-ResNet-50\", \"gradient_boosting\")"
   ]
  },
  {
   "cell_type": "markdown",
   "metadata": {},
   "source": [
    "## DenseNet"
   ]
  },
  {
   "cell_type": "code",
   "execution_count": 45,
   "metadata": {},
   "outputs": [
    {
     "name": "stdout",
     "output_type": "stream",
     "text": [
      "🔄 Loading dataset from DenseNet-121 features...\n",
      "✅ Loaded train data from DenseNet-121 features: (9246, 52734), Labels: (9246,)\n",
      "✅ Loaded test data from DenseNet-121 features: (2308, 52734), Labels: (2308,)\n",
      "Epoch [1/30], Loss: 1.7395, Train Accuracy: 42.47%, Test Accuracy: 46.53%\n",
      "Epoch [2/30], Loss: 1.7037, Train Accuracy: 46.15%, Test Accuracy: 47.83%\n",
      "Epoch [3/30], Loss: 1.7225, Train Accuracy: 44.32%, Test Accuracy: 37.31%\n",
      "Epoch [4/30], Loss: 1.8059, Train Accuracy: 35.98%, Test Accuracy: 37.44%\n",
      "Epoch [5/30], Loss: 1.7504, Train Accuracy: 41.48%, Test Accuracy: 46.62%\n",
      "Epoch [6/30], Loss: 1.7055, Train Accuracy: 46.03%, Test Accuracy: 49.13%\n",
      "Epoch [7/30], Loss: 1.7233, Train Accuracy: 44.24%, Test Accuracy: 45.75%\n",
      "Epoch [8/30], Loss: 1.7570, Train Accuracy: 40.81%, Test Accuracy: 46.66%\n",
      "Epoch [9/30], Loss: 1.7674, Train Accuracy: 39.74%, Test Accuracy: 44.24%\n",
      "Epoch [10/30], Loss: 1.7090, Train Accuracy: 45.62%, Test Accuracy: 43.63%\n",
      "Epoch [11/30], Loss: 1.7155, Train Accuracy: 44.94%, Test Accuracy: 46.36%\n",
      "Epoch [12/30], Loss: 1.7172, Train Accuracy: 44.82%, Test Accuracy: 46.79%\n",
      "Epoch [13/30], Loss: 1.7051, Train Accuracy: 46.02%, Test Accuracy: 45.41%\n",
      "Epoch [14/30], Loss: 1.7015, Train Accuracy: 46.41%, Test Accuracy: 43.50%\n",
      "Epoch [15/30], Loss: 1.7280, Train Accuracy: 43.72%, Test Accuracy: 42.24%\n",
      "Epoch [16/30], Loss: 1.7395, Train Accuracy: 42.61%, Test Accuracy: 43.59%\n",
      "Epoch [17/30], Loss: 1.7685, Train Accuracy: 39.67%, Test Accuracy: 38.78%\n",
      "Epoch [18/30], Loss: 1.7644, Train Accuracy: 40.15%, Test Accuracy: 39.47%\n",
      "Epoch [19/30], Loss: 1.7541, Train Accuracy: 41.16%, Test Accuracy: 40.51%\n",
      "Epoch [20/30], Loss: 1.7701, Train Accuracy: 39.61%, Test Accuracy: 29.94%\n",
      "Epoch [21/30], Loss: 1.8455, Train Accuracy: 31.97%, Test Accuracy: 34.14%\n",
      "Epoch [22/30], Loss: 1.7887, Train Accuracy: 37.71%, Test Accuracy: 38.00%\n",
      "Epoch [23/30], Loss: 1.7865, Train Accuracy: 37.89%, Test Accuracy: 34.19%\n",
      "Epoch [24/30], Loss: 1.8163, Train Accuracy: 34.93%, Test Accuracy: 31.93%\n",
      "Epoch [25/30], Loss: 1.8015, Train Accuracy: 36.38%, Test Accuracy: 36.27%\n",
      "Epoch [26/30], Loss: 1.8043, Train Accuracy: 36.15%, Test Accuracy: 35.44%\n",
      "Epoch [27/30], Loss: 1.8069, Train Accuracy: 35.81%, Test Accuracy: 36.18%\n",
      "Epoch [28/30], Loss: 1.8060, Train Accuracy: 35.93%, Test Accuracy: 32.54%\n",
      "Epoch [29/30], Loss: 1.8209, Train Accuracy: 34.53%, Test Accuracy: 34.97%\n",
      "Epoch [30/30], Loss: 1.8142, Train Accuracy: 35.14%, Test Accuracy: 34.79%\n",
      "✅ Training Completed!\n",
      "✅ Neural Network Model Saved: models/hff_nn_DenseNet-121.pth\n"
     ]
    },
    {
     "data": {
      "text/plain": [
       "HFFClassifier(\n",
       "  (fc1): Linear(in_features=52734, out_features=512, bias=True)\n",
       "  (relu): ReLU()\n",
       "  (fc2): Linear(in_features=512, out_features=256, bias=True)\n",
       "  (fc3): Linear(in_features=256, out_features=7, bias=True)\n",
       "  (softmax): Softmax(dim=1)\n",
       ")"
      ]
     },
     "execution_count": 45,
     "metadata": {},
     "output_type": "execute_result"
    }
   ],
   "source": [
    "train_neural_network(\"DenseNet-121\", num_epochs=30, batch_size=64, optimizer_type=\"adam\")"
   ]
  },
  {
   "cell_type": "code",
   "execution_count": 46,
   "metadata": {},
   "outputs": [
    {
     "name": "stdout",
     "output_type": "stream",
     "text": [
      "🔄 Loading dataset from DenseNet-121 features...\n",
      "✅ Loaded train data from DenseNet-121 features: (9246, 52734), Labels: (9246,)\n",
      "✅ Loaded test data from DenseNet-121 features: (2308, 52734), Labels: (2308,)\n",
      "🔄 Training random_forest model on DenseNet-121 features...\n",
      "✅ random_forest Model Accuracy on DenseNet-121:\n",
      "   - Train Accuracy: 100.00%\n",
      "   - Test Accuracy: 84.14%\n",
      "✅ random_forest Model Saved: models/hff_random_forest_DenseNet-121.pkl\n"
     ]
    }
   ],
   "source": [
    "train_other_models(\"DenseNet-121\", \"random_forest\")"
   ]
  },
  {
   "cell_type": "code",
   "execution_count": null,
   "metadata": {},
   "outputs": [],
   "source": [
    "# train_other_models(\"DenseNet-121\", \"logistic_regression\")"
   ]
  },
  {
   "cell_type": "markdown",
   "metadata": {},
   "source": [
    "## Gradient Boosting"
   ]
  },
  {
   "cell_type": "code",
   "execution_count": null,
   "metadata": {},
   "outputs": [],
   "source": [
    "# train_other_models(\"DenseNet-121\", \"gradient_boosting\")"
   ]
  },
  {
   "cell_type": "code",
   "execution_count": 48,
   "metadata": {},
   "outputs": [
    {
     "name": "stdout",
     "output_type": "stream",
     "text": [
      "🔄 Loading dataset from ResNeSt-50 features...\n",
      "✅ Loaded train data from ResNeSt-50 features: (9246, 4606), Labels: (9246,)\n",
      "✅ Loaded test data from ResNeSt-50 features: (2308, 4606), Labels: (2308,)\n",
      "🔄 Training gradient_boosting model on ResNeSt-50 features...\n",
      "✅ gradient_boosting Model Accuracy on ResNeSt-50:\n",
      "   - Train Accuracy: 97.66%\n",
      "   - Test Accuracy: 88.43%\n",
      "✅ gradient_boosting Model Saved: models/hff_gradient_boosting_ResNeSt-50.pkl\n"
     ]
    }
   ],
   "source": [
    "train_other_models(\"ResNeSt-50\", \"gradient_boosting\")"
   ]
  },
  {
   "cell_type": "code",
   "execution_count": 49,
   "metadata": {},
   "outputs": [
    {
     "name": "stdout",
     "output_type": "stream",
     "text": [
      "🔄 Loading dataset from ResNet-50 features...\n",
      "✅ Loaded train data from ResNet-50 features: (9246, 4606), Labels: (9246,)\n",
      "✅ Loaded test data from ResNet-50 features: (2308, 4606), Labels: (2308,)\n",
      "🔄 Training gradient_boosting model on ResNet-50 features...\n",
      "✅ gradient_boosting Model Accuracy on ResNet-50:\n",
      "   - Train Accuracy: 98.25%\n",
      "   - Test Accuracy: 89.38%\n",
      "✅ gradient_boosting Model Saved: models/hff_gradient_boosting_ResNet-50.pkl\n"
     ]
    }
   ],
   "source": [
    "train_other_models(\"ResNet-50\", \"gradient_boosting\")"
   ]
  },
  {
   "cell_type": "code",
   "execution_count": 50,
   "metadata": {},
   "outputs": [
    {
     "name": "stdout",
     "output_type": "stream",
     "text": [
      "🔄 Loading dataset from ResNeXt-50 features...\n",
      "✅ Loaded train data from ResNeXt-50 features: (9246, 4606), Labels: (9246,)\n",
      "✅ Loaded test data from ResNeXt-50 features: (2308, 4606), Labels: (2308,)\n",
      "🔄 Training gradient_boosting model on ResNeXt-50 features...\n",
      "✅ gradient_boosting Model Accuracy on ResNeXt-50:\n",
      "   - Train Accuracy: 98.09%\n",
      "   - Test Accuracy: 88.00%\n",
      "✅ gradient_boosting Model Saved: models/hff_gradient_boosting_ResNeXt-50.pkl\n"
     ]
    }
   ],
   "source": [
    "train_other_models(\"ResNeXt-50\", \"gradient_boosting\")"
   ]
  },
  {
   "cell_type": "code",
   "execution_count": 51,
   "metadata": {},
   "outputs": [
    {
     "name": "stdout",
     "output_type": "stream",
     "text": [
      "🔄 Loading dataset from SE-ResNet-50 features...\n",
      "✅ Loaded train data from SE-ResNet-50 features: (9246, 4606), Labels: (9246,)\n",
      "✅ Loaded test data from SE-ResNet-50 features: (2308, 4606), Labels: (2308,)\n",
      "🔄 Training gradient_boosting model on SE-ResNet-50 features...\n",
      "✅ gradient_boosting Model Accuracy on SE-ResNet-50:\n",
      "   - Train Accuracy: 98.01%\n",
      "   - Test Accuracy: 88.52%\n",
      "✅ gradient_boosting Model Saved: models/hff_gradient_boosting_SE-ResNet-50.pkl\n"
     ]
    }
   ],
   "source": [
    "train_other_models(\"SE-ResNet-50\", \"gradient_boosting\")"
   ]
  }
 ],
 "metadata": {
  "kernelspec": {
   "display_name": "majorproject",
   "language": "python",
   "name": "python3"
  },
  "language_info": {
   "codemirror_mode": {
    "name": "ipython",
    "version": 3
   },
   "file_extension": ".py",
   "mimetype": "text/x-python",
   "name": "python",
   "nbconvert_exporter": "python",
   "pygments_lexer": "ipython3",
   "version": "3.9.0"
  }
 },
 "nbformat": 4,
 "nbformat_minor": 2
}
