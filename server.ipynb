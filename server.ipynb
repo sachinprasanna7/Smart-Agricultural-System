{
 "cells": [
  {
   "cell_type": "markdown",
   "metadata": {},
   "source": [
    "# Importing Libraries"
   ]
  },
  {
   "cell_type": "code",
   "execution_count": 1,
   "metadata": {},
   "outputs": [],
   "source": [
    "from flask import Flask, request, jsonify\n",
    "from PIL import Image\n",
    "import torch\n",
    "from torchvision import transforms\n",
    "import io\n",
    "from torchvision.models import resnet50\n",
    "import torch.nn as nn"
   ]
  },
  {
   "cell_type": "code",
   "execution_count": 2,
   "metadata": {},
   "outputs": [],
   "source": [
    "# Initialize Flask app\n",
    "app = Flask(__name__)"
   ]
  },
  {
   "cell_type": "code",
   "execution_count": 3,
   "metadata": {},
   "outputs": [
    {
     "name": "stderr",
     "output_type": "stream",
     "text": [
      "c:\\Users\\Pdogg Windows10\\Desktop\\Semester 7\\Major Project\\Project\\majorproject\\lib\\site-packages\\torchvision\\models\\_utils.py:208: UserWarning: The parameter 'pretrained' is deprecated since 0.13 and may be removed in the future, please use 'weights' instead.\n",
      "  warnings.warn(\n",
      "c:\\Users\\Pdogg Windows10\\Desktop\\Semester 7\\Major Project\\Project\\majorproject\\lib\\site-packages\\torchvision\\models\\_utils.py:223: UserWarning: Arguments other than a weight enum or `None` for 'weights' are deprecated since 0.13 and may be removed in the future. The current behavior is equivalent to passing `weights=None`.\n",
      "  warnings.warn(msg)\n"
     ]
    },
    {
     "name": "stdout",
     "output_type": "stream",
     "text": [
      "Model loaded successfully!\n"
     ]
    },
    {
     "name": "stderr",
     "output_type": "stream",
     "text": [
      "C:\\Users\\Pdogg Windows10\\AppData\\Local\\Temp\\ipykernel_9688\\751917443.py:12: FutureWarning: You are using `torch.load` with `weights_only=False` (the current default value), which uses the default pickle module implicitly. It is possible to construct malicious pickle data which will execute arbitrary code during unpickling (See https://github.com/pytorch/pytorch/blob/main/SECURITY.md#untrusted-models for more details). In a future release, the default value for `weights_only` will be flipped to `True`. This limits the functions that could be executed during unpickling. Arbitrary objects will no longer be allowed to be loaded via this mode unless they are explicitly allowlisted by the user via `torch.serialization.add_safe_globals`. We recommend you start setting `weights_only=True` for any use case where you don't have full control of the loaded file. Please open an issue on GitHub for any issues related to this experimental feature.\n",
      "  state_dict = torch.load(model_path, map_location=torch.device('cpu'))  # Load to CPU\n"
     ]
    }
   ],
   "source": [
    "# Define the model architecture\n",
    "model_path = 'Models/best_ResNet-50.pth'\n",
    "\n",
    "# Load a ResNet-50 model (ensure you define the same architecture used when training)\n",
    "model = resnet50(pretrained=False)  # Use pretrained=False since you'll load your custom weights\n",
    "\n",
    "# Modify the last layer if needed (e.g., for specific number of classes)\n",
    "num_classes = 7  # Update with the number of classes in your model\n",
    "model.fc = nn.Linear(model.fc.in_features, num_classes)\n",
    "\n",
    "# Load the state dictionary\n",
    "state_dict = torch.load(model_path, map_location=torch.device('cpu'))  # Load to CPU\n",
    "model.load_state_dict(state_dict)\n",
    "\n",
    "# Set the model to evaluation mode\n",
    "model.eval()\n",
    "\n",
    "print(\"Model loaded successfully!\")"
   ]
  },
  {
   "cell_type": "code",
   "execution_count": 4,
   "metadata": {},
   "outputs": [
    {
     "name": "stdout",
     "output_type": "stream",
     "text": [
      " * Serving Flask app '__main__'\n",
      " * Debug mode: on\n"
     ]
    },
    {
     "name": "stderr",
     "output_type": "stream",
     "text": [
      "WARNING: This is a development server. Do not use it in a production deployment. Use a production WSGI server instead.\n",
      " * Running on all addresses (0.0.0.0)\n",
      " * Running on http://127.0.0.1:5000\n",
      " * Running on http://10.50.44.202:5000\n",
      "Press CTRL+C to quit\n",
      "127.0.0.1 - - [20/Jan/2025 07:58:22] \"GET / HTTP/1.1\" 404 -\n",
      "127.0.0.1 - - [20/Jan/2025 07:58:22] \"GET /favicon.ico HTTP/1.1\" 404 -\n",
      "10.50.44.202 - - [20/Jan/2025 07:58:27] \"GET / HTTP/1.1\" 404 -\n",
      "10.50.44.202 - - [20/Jan/2025 07:58:28] \"GET /favicon.ico HTTP/1.1\" 404 -\n",
      "127.0.0.1 - - [20/Jan/2025 07:58:50] \"GET / HTTP/1.1\" 404 -\n",
      "127.0.0.1 - - [20/Jan/2025 07:59:36] \"GET /predict HTTP/1.1\" 405 -\n",
      "127.0.0.1 - - [20/Jan/2025 08:02:37] \"POST /predict HTTP/1.1\" 200 -\n"
     ]
    }
   ],
   "source": [
    "# Define image transformations (should match the ones used during training)\n",
    "image_transforms = transforms.Compose([\n",
    "    transforms.Resize((256, 256)),\n",
    "    transforms.CenterCrop((224, 224)),\n",
    "    transforms.ToTensor(),\n",
    "])\n",
    "\n",
    "# Define the class labels (update this with your actual class labels)\n",
    "class_labels = [\"BacterialBlight\", \"BacterialLeafBlight\", \"BacterialLeafStreak\", \"Blast\", \"BrownSpot\", \"Normal\", \"SheathBlight\"]  # Replace with your actual labels\n",
    "\n",
    "\n",
    "@app.route('/predict', methods=['POST'])\n",
    "def predict():\n",
    "    if 'image' not in request.files:\n",
    "        return jsonify({\"error\": \"No image file provided\"}), 400\n",
    "    \n",
    "    # Get the image file\n",
    "    file = request.files['image']\n",
    "    \n",
    "    try:\n",
    "        # Open the image\n",
    "        image = Image.open(file.stream).convert('RGB')\n",
    "        \n",
    "        # Apply transformations\n",
    "        image = image_transforms(image).unsqueeze(0)  # Add batch dimension\n",
    "        \n",
    "        # Perform prediction\n",
    "        with torch.no_grad():\n",
    "            outputs = model(image)\n",
    "            _, predicted_class = torch.max(outputs, 1)\n",
    "            predicted_label = class_labels[predicted_class.item()]\n",
    "        \n",
    "        # Return the result\n",
    "        return jsonify({\"prediction\": predicted_label}), 200\n",
    "    \n",
    "    except Exception as e:\n",
    "        return jsonify({\"error\": str(e)}), 500\n",
    "\n",
    "# Run the Flask app\n",
    "if __name__ == '__main__':\n",
    "    app.run(host='0.0.0.0', port=5000, debug=True, use_reloader=False)\n"
   ]
  }
 ],
 "metadata": {
  "kernelspec": {
   "display_name": "majorproject",
   "language": "python",
   "name": "python3"
  },
  "language_info": {
   "codemirror_mode": {
    "name": "ipython",
    "version": 3
   },
   "file_extension": ".py",
   "mimetype": "text/x-python",
   "name": "python",
   "nbconvert_exporter": "python",
   "pygments_lexer": "ipython3",
   "version": "3.9.0"
  }
 },
 "nbformat": 4,
 "nbformat_minor": 2
}
